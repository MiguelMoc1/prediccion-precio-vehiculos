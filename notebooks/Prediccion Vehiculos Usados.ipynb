{
 "cells": [
  {
   "cell_type": "markdown",
   "metadata": {},
   "source": [
    "El servicio de venta de autos usados Rusty Bargain está desarrollando una aplicación para atraer nuevos clientes. Gracias a esa app, puedes averiguar rápidamente el valor de mercado de tu coche. Tienes acceso al historial: especificaciones técnicas, versiones de equipamiento y precios. Tienes que crear un modelo que determine el valor de mercado.\n",
    "A Rusty Bargain le interesa:\n",
    "- la calidad de la predicción;\n",
    "- la velocidad de la predicción;\n",
    "- el tiempo requerido para el entrenamiento"
   ]
  },
  {
   "cell_type": "markdown",
   "metadata": {},
   "source": [
    "## Preparación de datos\n",
    "### Carga y exploración inicial de los datos\n",
    "\n",
    "En este paso, cargaremos el conjunto de datos y realizaremos una exploración inicial para identificar posibles problemas, como valores faltantes o tipos de datos incorrectos. Verificaremos las primeras filas del conjunto de datos, la cantidad de valores faltantes y los tipos de datos de cada columna."
   ]
  },
  {
   "cell_type": "code",
   "execution_count": 2,
   "metadata": {},
   "outputs": [],
   "source": [
    "# Importar las librerías necesarias\n",
    "import pandas as pd\n",
    "import numpy as np\n",
    "import matplotlib.pyplot as plt\n",
    "import seaborn as sns\n",
    "from sklearn.model_selection import train_test_split\n",
    "from sklearn.preprocessing import OneHotEncoder, StandardScaler\n",
    "from sklearn.linear_model import LinearRegression\n",
    "from sklearn.tree import DecisionTreeRegressor\n",
    "from sklearn.ensemble import RandomForestRegressor\n",
    "from sklearn.metrics import root_mean_squared_error\n",
    "import time\n",
    "import lightgbm as lgb\n",
    "from sklearn.model_selection import GridSearchCV\n",
    "from catboost import CatBoostRegressor, Pool\n",
    "import xgboost as xgb\n",
    "from sklearn.model_selection import RandomizedSearchCV\n",
    "import torch\n",
    "import cupy as cp"
   ]
  },
  {
   "cell_type": "code",
   "execution_count": 3,
   "metadata": {},
   "outputs": [
    {
     "name": "stdout",
     "output_type": "stream",
     "text": [
      "True\n",
      "13.3.0\n"
     ]
    }
   ],
   "source": [
    "print(torch.cuda.is_available())\n",
    "print(cp.__version__)"
   ]
  },
  {
   "cell_type": "code",
   "execution_count": 4,
   "metadata": {},
   "outputs": [],
   "source": [
    "# Configuración para usar GPU si está disponible\n",
    "device = torch.device(\"cuda\" if torch.cuda.is_available() else \"cpu\")\n"
   ]
  },
  {
   "cell_type": "code",
   "execution_count": 5,
   "metadata": {},
   "outputs": [
    {
     "data": {
      "text/html": [
       "<div>\n",
       "<style scoped>\n",
       "    .dataframe tbody tr th:only-of-type {\n",
       "        vertical-align: middle;\n",
       "    }\n",
       "\n",
       "    .dataframe tbody tr th {\n",
       "        vertical-align: top;\n",
       "    }\n",
       "\n",
       "    .dataframe thead th {\n",
       "        text-align: right;\n",
       "    }\n",
       "</style>\n",
       "<table border=\"1\" class=\"dataframe\">\n",
       "  <thead>\n",
       "    <tr style=\"text-align: right;\">\n",
       "      <th></th>\n",
       "      <th>DateCrawled</th>\n",
       "      <th>Price</th>\n",
       "      <th>VehicleType</th>\n",
       "      <th>RegistrationYear</th>\n",
       "      <th>Gearbox</th>\n",
       "      <th>Power</th>\n",
       "      <th>Model</th>\n",
       "      <th>Mileage</th>\n",
       "      <th>RegistrationMonth</th>\n",
       "      <th>FuelType</th>\n",
       "      <th>Brand</th>\n",
       "      <th>NotRepaired</th>\n",
       "      <th>DateCreated</th>\n",
       "      <th>NumberOfPictures</th>\n",
       "      <th>PostalCode</th>\n",
       "      <th>LastSeen</th>\n",
       "    </tr>\n",
       "  </thead>\n",
       "  <tbody>\n",
       "    <tr>\n",
       "      <th>0</th>\n",
       "      <td>24/03/2016 11:52</td>\n",
       "      <td>480</td>\n",
       "      <td>NaN</td>\n",
       "      <td>1993</td>\n",
       "      <td>manual</td>\n",
       "      <td>0</td>\n",
       "      <td>golf</td>\n",
       "      <td>150000</td>\n",
       "      <td>0</td>\n",
       "      <td>petrol</td>\n",
       "      <td>volkswagen</td>\n",
       "      <td>NaN</td>\n",
       "      <td>24/03/2016 00:00</td>\n",
       "      <td>0</td>\n",
       "      <td>70435</td>\n",
       "      <td>07/04/2016 03:16</td>\n",
       "    </tr>\n",
       "    <tr>\n",
       "      <th>1</th>\n",
       "      <td>24/03/2016 10:58</td>\n",
       "      <td>18300</td>\n",
       "      <td>coupe</td>\n",
       "      <td>2011</td>\n",
       "      <td>manual</td>\n",
       "      <td>190</td>\n",
       "      <td>NaN</td>\n",
       "      <td>125000</td>\n",
       "      <td>5</td>\n",
       "      <td>gasoline</td>\n",
       "      <td>audi</td>\n",
       "      <td>yes</td>\n",
       "      <td>24/03/2016 00:00</td>\n",
       "      <td>0</td>\n",
       "      <td>66954</td>\n",
       "      <td>07/04/2016 01:46</td>\n",
       "    </tr>\n",
       "    <tr>\n",
       "      <th>2</th>\n",
       "      <td>14/03/2016 12:52</td>\n",
       "      <td>9800</td>\n",
       "      <td>suv</td>\n",
       "      <td>2004</td>\n",
       "      <td>auto</td>\n",
       "      <td>163</td>\n",
       "      <td>grand</td>\n",
       "      <td>125000</td>\n",
       "      <td>8</td>\n",
       "      <td>gasoline</td>\n",
       "      <td>jeep</td>\n",
       "      <td>NaN</td>\n",
       "      <td>14/03/2016 00:00</td>\n",
       "      <td>0</td>\n",
       "      <td>90480</td>\n",
       "      <td>05/04/2016 12:47</td>\n",
       "    </tr>\n",
       "    <tr>\n",
       "      <th>3</th>\n",
       "      <td>17/03/2016 16:54</td>\n",
       "      <td>1500</td>\n",
       "      <td>small</td>\n",
       "      <td>2001</td>\n",
       "      <td>manual</td>\n",
       "      <td>75</td>\n",
       "      <td>golf</td>\n",
       "      <td>150000</td>\n",
       "      <td>6</td>\n",
       "      <td>petrol</td>\n",
       "      <td>volkswagen</td>\n",
       "      <td>no</td>\n",
       "      <td>17/03/2016 00:00</td>\n",
       "      <td>0</td>\n",
       "      <td>91074</td>\n",
       "      <td>17/03/2016 17:40</td>\n",
       "    </tr>\n",
       "    <tr>\n",
       "      <th>4</th>\n",
       "      <td>31/03/2016 17:25</td>\n",
       "      <td>3600</td>\n",
       "      <td>small</td>\n",
       "      <td>2008</td>\n",
       "      <td>manual</td>\n",
       "      <td>69</td>\n",
       "      <td>fabia</td>\n",
       "      <td>90000</td>\n",
       "      <td>7</td>\n",
       "      <td>gasoline</td>\n",
       "      <td>skoda</td>\n",
       "      <td>no</td>\n",
       "      <td>31/03/2016 00:00</td>\n",
       "      <td>0</td>\n",
       "      <td>60437</td>\n",
       "      <td>06/04/2016 10:17</td>\n",
       "    </tr>\n",
       "  </tbody>\n",
       "</table>\n",
       "</div>"
      ],
      "text/plain": [
       "        DateCrawled  Price VehicleType  RegistrationYear Gearbox  Power  \\\n",
       "0  24/03/2016 11:52    480         NaN              1993  manual      0   \n",
       "1  24/03/2016 10:58  18300       coupe              2011  manual    190   \n",
       "2  14/03/2016 12:52   9800         suv              2004    auto    163   \n",
       "3  17/03/2016 16:54   1500       small              2001  manual     75   \n",
       "4  31/03/2016 17:25   3600       small              2008  manual     69   \n",
       "\n",
       "   Model  Mileage  RegistrationMonth  FuelType       Brand NotRepaired  \\\n",
       "0   golf   150000                  0    petrol  volkswagen         NaN   \n",
       "1    NaN   125000                  5  gasoline        audi         yes   \n",
       "2  grand   125000                  8  gasoline        jeep         NaN   \n",
       "3   golf   150000                  6    petrol  volkswagen          no   \n",
       "4  fabia    90000                  7  gasoline       skoda          no   \n",
       "\n",
       "        DateCreated  NumberOfPictures  PostalCode          LastSeen  \n",
       "0  24/03/2016 00:00                 0       70435  07/04/2016 03:16  \n",
       "1  24/03/2016 00:00                 0       66954  07/04/2016 01:46  \n",
       "2  14/03/2016 00:00                 0       90480  05/04/2016 12:47  \n",
       "3  17/03/2016 00:00                 0       91074  17/03/2016 17:40  \n",
       "4  31/03/2016 00:00                 0       60437  06/04/2016 10:17  "
      ]
     },
     "metadata": {},
     "output_type": "display_data"
    },
    {
     "name": "stdout",
     "output_type": "stream",
     "text": [
      "<class 'pandas.core.frame.DataFrame'>\n",
      "RangeIndex: 354369 entries, 0 to 354368\n",
      "Data columns (total 16 columns):\n",
      " #   Column             Non-Null Count   Dtype \n",
      "---  ------             --------------   ----- \n",
      " 0   DateCrawled        354369 non-null  object\n",
      " 1   Price              354369 non-null  int64 \n",
      " 2   VehicleType        316879 non-null  object\n",
      " 3   RegistrationYear   354369 non-null  int64 \n",
      " 4   Gearbox            334536 non-null  object\n",
      " 5   Power              354369 non-null  int64 \n",
      " 6   Model              334664 non-null  object\n",
      " 7   Mileage            354369 non-null  int64 \n",
      " 8   RegistrationMonth  354369 non-null  int64 \n",
      " 9   FuelType           321474 non-null  object\n",
      " 10  Brand              354369 non-null  object\n",
      " 11  NotRepaired        283215 non-null  object\n",
      " 12  DateCreated        354369 non-null  object\n",
      " 13  NumberOfPictures   354369 non-null  int64 \n",
      " 14  PostalCode         354369 non-null  int64 \n",
      " 15  LastSeen           354369 non-null  object\n",
      "dtypes: int64(7), object(9)\n",
      "memory usage: 43.3+ MB\n"
     ]
    },
    {
     "data": {
      "text/plain": [
       "VehicleType    37490\n",
       "Gearbox        19833\n",
       "Model          19705\n",
       "FuelType       32895\n",
       "NotRepaired    71154\n",
       "dtype: int64"
      ]
     },
     "metadata": {},
     "output_type": "display_data"
    }
   ],
   "source": [
    "# Cargar los datos\n",
    "data = pd.read_csv('./data/car_data.csv')\n",
    "\n",
    "# Ver las primeras filas del dataset para inspección inicial\n",
    "display(data.head())\n",
    "\n",
    "# Revisar información general sobre el dataset\n",
    "data.info()\n",
    "\n",
    "# Verificar valores faltantes por columna\n",
    "missing_values = data.isnull().sum()\n",
    "display(missing_values[missing_values > 0])\n"
   ]
  },
  {
   "cell_type": "markdown",
   "metadata": {},
   "source": [
    "### Preprocesamiento de los datos\n",
    "\n",
    "En este paso, vamos a realizar el preprocesamiento de los datos para manejar los valores faltantes y convertir las columnas con tipos de datos incorrectos a los tipos adecuados. También haremos una revisión de las columnas que no sean relevantes para el análisis del precio del vehículo y las eliminaremos si es necesario.\n"
   ]
  },
  {
   "cell_type": "code",
   "execution_count": 6,
   "metadata": {
    "scrolled": true
   },
   "outputs": [
    {
     "data": {
      "text/html": [
       "<div>\n",
       "<style scoped>\n",
       "    .dataframe tbody tr th:only-of-type {\n",
       "        vertical-align: middle;\n",
       "    }\n",
       "\n",
       "    .dataframe tbody tr th {\n",
       "        vertical-align: top;\n",
       "    }\n",
       "\n",
       "    .dataframe thead th {\n",
       "        text-align: right;\n",
       "    }\n",
       "</style>\n",
       "<table border=\"1\" class=\"dataframe\">\n",
       "  <thead>\n",
       "    <tr style=\"text-align: right;\">\n",
       "      <th></th>\n",
       "      <th>DateCrawled</th>\n",
       "      <th>Price</th>\n",
       "      <th>VehicleType</th>\n",
       "      <th>RegistrationYear</th>\n",
       "      <th>Gearbox</th>\n",
       "      <th>Power</th>\n",
       "      <th>Model</th>\n",
       "      <th>Mileage</th>\n",
       "      <th>RegistrationMonth</th>\n",
       "      <th>FuelType</th>\n",
       "      <th>Brand</th>\n",
       "      <th>NotRepaired</th>\n",
       "      <th>DateCreated</th>\n",
       "      <th>PostalCode</th>\n",
       "      <th>LastSeen</th>\n",
       "    </tr>\n",
       "  </thead>\n",
       "  <tbody>\n",
       "    <tr>\n",
       "      <th>0</th>\n",
       "      <td>2016-03-24 11:52:00</td>\n",
       "      <td>480</td>\n",
       "      <td>unknown</td>\n",
       "      <td>1993</td>\n",
       "      <td>manual</td>\n",
       "      <td>0</td>\n",
       "      <td>golf</td>\n",
       "      <td>150000</td>\n",
       "      <td>0</td>\n",
       "      <td>petrol</td>\n",
       "      <td>volkswagen</td>\n",
       "      <td>unknown</td>\n",
       "      <td>2016-03-24</td>\n",
       "      <td>70435</td>\n",
       "      <td>2016-04-07 03:16:00</td>\n",
       "    </tr>\n",
       "    <tr>\n",
       "      <th>1</th>\n",
       "      <td>2016-03-24 10:58:00</td>\n",
       "      <td>18300</td>\n",
       "      <td>coupe</td>\n",
       "      <td>2011</td>\n",
       "      <td>manual</td>\n",
       "      <td>190</td>\n",
       "      <td>unknown</td>\n",
       "      <td>125000</td>\n",
       "      <td>5</td>\n",
       "      <td>gasoline</td>\n",
       "      <td>audi</td>\n",
       "      <td>yes</td>\n",
       "      <td>2016-03-24</td>\n",
       "      <td>66954</td>\n",
       "      <td>2016-04-07 01:46:00</td>\n",
       "    </tr>\n",
       "    <tr>\n",
       "      <th>2</th>\n",
       "      <td>2016-03-14 12:52:00</td>\n",
       "      <td>9800</td>\n",
       "      <td>suv</td>\n",
       "      <td>2004</td>\n",
       "      <td>auto</td>\n",
       "      <td>163</td>\n",
       "      <td>grand</td>\n",
       "      <td>125000</td>\n",
       "      <td>8</td>\n",
       "      <td>gasoline</td>\n",
       "      <td>jeep</td>\n",
       "      <td>unknown</td>\n",
       "      <td>2016-03-14</td>\n",
       "      <td>90480</td>\n",
       "      <td>2016-04-05 12:47:00</td>\n",
       "    </tr>\n",
       "    <tr>\n",
       "      <th>3</th>\n",
       "      <td>2016-03-17 16:54:00</td>\n",
       "      <td>1500</td>\n",
       "      <td>small</td>\n",
       "      <td>2001</td>\n",
       "      <td>manual</td>\n",
       "      <td>75</td>\n",
       "      <td>golf</td>\n",
       "      <td>150000</td>\n",
       "      <td>6</td>\n",
       "      <td>petrol</td>\n",
       "      <td>volkswagen</td>\n",
       "      <td>no</td>\n",
       "      <td>2016-03-17</td>\n",
       "      <td>91074</td>\n",
       "      <td>2016-03-17 17:40:00</td>\n",
       "    </tr>\n",
       "    <tr>\n",
       "      <th>4</th>\n",
       "      <td>2016-03-31 17:25:00</td>\n",
       "      <td>3600</td>\n",
       "      <td>small</td>\n",
       "      <td>2008</td>\n",
       "      <td>manual</td>\n",
       "      <td>69</td>\n",
       "      <td>fabia</td>\n",
       "      <td>90000</td>\n",
       "      <td>7</td>\n",
       "      <td>gasoline</td>\n",
       "      <td>skoda</td>\n",
       "      <td>no</td>\n",
       "      <td>2016-03-31</td>\n",
       "      <td>60437</td>\n",
       "      <td>2016-04-06 10:17:00</td>\n",
       "    </tr>\n",
       "  </tbody>\n",
       "</table>\n",
       "</div>"
      ],
      "text/plain": [
       "          DateCrawled  Price VehicleType  RegistrationYear Gearbox  Power  \\\n",
       "0 2016-03-24 11:52:00    480     unknown              1993  manual      0   \n",
       "1 2016-03-24 10:58:00  18300       coupe              2011  manual    190   \n",
       "2 2016-03-14 12:52:00   9800         suv              2004    auto    163   \n",
       "3 2016-03-17 16:54:00   1500       small              2001  manual     75   \n",
       "4 2016-03-31 17:25:00   3600       small              2008  manual     69   \n",
       "\n",
       "     Model  Mileage  RegistrationMonth  FuelType       Brand NotRepaired  \\\n",
       "0     golf   150000                  0    petrol  volkswagen     unknown   \n",
       "1  unknown   125000                  5  gasoline        audi         yes   \n",
       "2    grand   125000                  8  gasoline        jeep     unknown   \n",
       "3     golf   150000                  6    petrol  volkswagen          no   \n",
       "4    fabia    90000                  7  gasoline       skoda          no   \n",
       "\n",
       "  DateCreated  PostalCode            LastSeen  \n",
       "0  2016-03-24       70435 2016-04-07 03:16:00  \n",
       "1  2016-03-24       66954 2016-04-07 01:46:00  \n",
       "2  2016-03-14       90480 2016-04-05 12:47:00  \n",
       "3  2016-03-17       91074 2016-03-17 17:40:00  \n",
       "4  2016-03-31       60437 2016-04-06 10:17:00  "
      ]
     },
     "metadata": {},
     "output_type": "display_data"
    },
    {
     "name": "stdout",
     "output_type": "stream",
     "text": [
      "DateCrawled          0\n",
      "Price                0\n",
      "VehicleType          0\n",
      "RegistrationYear     0\n",
      "Gearbox              0\n",
      "Power                0\n",
      "Model                0\n",
      "Mileage              0\n",
      "RegistrationMonth    0\n",
      "FuelType             0\n",
      "Brand                0\n",
      "NotRepaired          0\n",
      "DateCreated          0\n",
      "PostalCode           0\n",
      "LastSeen             0\n",
      "dtype: int64\n"
     ]
    }
   ],
   "source": [
    "# Eliminar la columna 'NumberOfPictures' ya que tiene un solo valor (0) para todas las entradas\n",
    "data = data.drop(columns=['NumberOfPictures'])\n",
    "\n",
    "# Convertir las columnas de fecha a tipo datetime para un manejo más eficiente\n",
    "data['DateCrawled'] = pd.to_datetime(data['DateCrawled'], format='%d/%m/%Y %H:%M')\n",
    "data['DateCreated'] = pd.to_datetime(data['DateCreated'], format='%d/%m/%Y %H:%M')\n",
    "data['LastSeen'] = pd.to_datetime(data['LastSeen'], format='%d/%m/%Y %H:%M')\n",
    "\n",
    "# Para las columnas con valores faltantes:\n",
    "# 'VehicleType', 'Gearbox', 'Model', 'FuelType', 'NotRepaired': Imputamos con \"desconocido\"\n",
    "data['VehicleType'] = data['VehicleType'].fillna('unknown')\n",
    "data['Gearbox'] = data['Gearbox'].fillna('unknown')\n",
    "data['Model'] = data['Model'].fillna('unknown')\n",
    "data['FuelType'] = data['FuelType'].fillna('unknown')\n",
    "data['NotRepaired'] = data['NotRepaired'].fillna('unknown')\n",
    "\n",
    "\n",
    "# Revisar las primeras filas después del preprocesamiento\n",
    "display(data.head())\n",
    "\n",
    "# Verificar que no queden valores nulos\n",
    "print(data.isnull().sum())\n"
   ]
  },
  {
   "cell_type": "markdown",
   "metadata": {},
   "source": [
    "## Verificación de Outliers y Análisis Exploratorio\n",
    "\n",
    "Vamos a analizar la distribución de algunas variables clave como `Price`, `Power` y `RegistrationYear`. Nos aseguraremos de que no haya valores fuera de rango y, si encontramos outliers, tomaremos decisiones sobre cómo manejarlos. También verificaremos si las variables tienen distribuciones razonables para los datos de vehículos usados.\n"
   ]
  },
  {
   "cell_type": "code",
   "execution_count": 7,
   "metadata": {
    "scrolled": true
   },
   "outputs": [
    {
     "data": {
      "image/png": "[encoded data removed]",
      "text/plain": [
       "<Figure size 1800x500 with 3 Axes>"
      ]
     },
     "metadata": {},
     "output_type": "display_data"
    }
   ],
   "source": [
    "# Definir límites razonables para las variables\n",
    "max_power = 500  # Establecer un máximo realista para la potencia (500 CV)\n",
    "min_year = 1950  # Establecer un año mínimo realista de registro\n",
    "max_year = 2021  # Establecer un año máximo realista de registro\n",
    "\n",
    "# Graficar nuevamente con límites ajustados\n",
    "fig, axes = plt.subplots(1, 3, figsize=(18, 5))\n",
    "\n",
    "# Gráfica de distribución de Price (sin cambios)\n",
    "sns.histplot(data['Price'], bins=50, ax=axes[0])\n",
    "axes[0].set_title('Distribución de precio')\n",
    "\n",
    "# Gráfica de Power ajustando el límite\n",
    "sns.histplot(data[data['Power'] <= max_power]['Power'], bins=50, ax=axes[1])\n",
    "axes[1].set_title('Distribución de poder (hasta 500 CV)')\n",
    "\n",
    "# Gráfica de RegistrationYear ajustando los límites\n",
    "sns.histplot(data[(data['RegistrationYear'] >= min_year) & (data['RegistrationYear'] <= max_year)]['RegistrationYear'], bins=50, ax=axes[2])\n",
    "axes[2].set_title('Distribución de año de registro (1950-2021)')\n",
    "\n",
    "plt.tight_layout()\n",
    "plt.show()"
   ]
  },
  {
   "cell_type": "markdown",
   "metadata": {},
   "source": [
    "### Eliminación de filas con `Power = 0`\n",
    "Procedemos a eliminar las filas donde el valor de `Power` (caballos de fuerza) es igual a 0, ya que es imposible que un automóvil tenga 0 caballos de fuerza. Esta limpieza permitirá que nuestros datos sean más precisos y representativos.\n"
   ]
  },
  {
   "cell_type": "code",
   "execution_count": 8,
   "metadata": {},
   "outputs": [
    {
     "name": "stdout",
     "output_type": "stream",
     "text": [
      "Se han eliminado 40225 filas con Power = 0\n"
     ]
    },
    {
     "data": {
      "image/png": "[encoded data removed]",
      "text/plain": [
       "<Figure size 1500x400 with 3 Axes>"
      ]
     },
     "metadata": {},
     "output_type": "display_data"
    }
   ],
   "source": [
    "# Eliminar las filas donde Power es igual a 0\n",
    "data_clean = data[data['Power'] != 0]\n",
    "\n",
    "# Comprobar el número de filas eliminadas\n",
    "eliminated_rows = len(data) - len(data_clean)\n",
    "print(f\"Se han eliminado {eliminated_rows} filas con Power = 0\")\n",
    "\n",
    "# Volver a generar las distribuciones para asegurarnos de que los datos están limpios\n",
    "fig, axes = plt.subplots(1, 3, figsize=(15, 4))\n",
    "\n",
    "data_clean[['Price', 'Power', 'RegistrationYear']].describe().T\n",
    "\n",
    "# Distribución de Price\n",
    "sns.histplot(data_clean['Price'], bins=50, ax=axes[0])\n",
    "axes[0].set_title(\"Distribución de precio\")\n",
    "\n",
    "# Distribución de Power (hasta 500 CV)\n",
    "sns.histplot(data_clean[data_clean['Power'] <= 500]['Power'], bins=50, ax=axes[1])\n",
    "axes[1].set_title(\"Distribución de poder (hasta 500 CV)\")\n",
    "\n",
    "# Distribución de RegistrationYear (1950-2021)\n",
    "sns.histplot(data_clean[(data_clean['RegistrationYear'] >= 1950) & (data_clean['RegistrationYear'] <= 2021)]['RegistrationYear'], bins=30, ax=axes[2])\n",
    "axes[2].set_title(\"Distribución de año de registro (1950-2021)\")\n",
    "\n",
    "plt.tight_layout()\n",
    "plt.show()\n"
   ]
  },
  {
   "cell_type": "code",
   "execution_count": 9,
   "metadata": {},
   "outputs": [
    {
     "name": "stdout",
     "output_type": "stream",
     "text": [
      "Tamaño del conjunto de datos original: (354369, 15)\n",
      "Tamaño del conjunto de datos después de eliminar outliers: (348831, 15)\n"
     ]
    },
    {
     "data": {
      "image/png": "[encoded data removed]",
      "text/plain": [
       "<Figure size 1500x500 with 3 Axes>"
      ]
     },
     "metadata": {},
     "output_type": "display_data"
    }
   ],
   "source": [
    "# Definir los umbrales para eliminar valores atípicos\n",
    "price_upper_threshold = data_clean['Price'].quantile(0.99)\n",
    "power_upper_threshold = data_clean['Power'].quantile(0.99)\n",
    "mileage_lower_threshold = data_clean['Mileage'].quantile(0.01)\n",
    "\n",
    "# Filtrar los datos para eliminar outliers\n",
    "data_clean = data[\n",
    "    (data['Price'] <= price_upper_threshold) & \n",
    "    (data['Power'] <= power_upper_threshold) & \n",
    "    (data['Mileage'] >= mileage_lower_threshold)\n",
    "]\n",
    "\n",
    "# Verificar la reducción de datos después de la eliminación de outliers\n",
    "print(f\"Tamaño del conjunto de datos original: {data.shape}\")\n",
    "print(f\"Tamaño del conjunto de datos después de eliminar outliers: {data_clean.shape}\")\n",
    "\n",
    "# Mostrar las distribuciones nuevamente\n",
    "fig, axes = plt.subplots(1, 3, figsize=(15, 5))\n",
    "\n",
    "sns.boxplot(data=data_clean, y='Price', ax=axes[0])\n",
    "axes[0].set_title('Distribución de Price sin outliers')\n",
    "\n",
    "sns.boxplot(data=data_clean, y='Power', ax=axes[1])\n",
    "axes[1].set_title('Distribución de Power sin outliers')\n",
    "\n",
    "sns.boxplot(data=data_clean, y='Mileage', ax=axes[2])\n",
    "axes[2].set_title('Distribución de Mileage sin outliers')\n",
    "\n",
    "plt.tight_layout()\n",
    "plt.show()\n"
   ]
  },
  {
   "cell_type": "markdown",
   "metadata": {},
   "source": [
    "## Entrenamiento del modelo "
   ]
  },
  {
   "cell_type": "markdown",
   "metadata": {},
   "source": [
    "\n",
    "Vamos a dividir el conjunto de datos en características y la variable objetivo (Price), luego en datos de entrenamiento y prueba. Además, prepararemos los datos para entrenar varios modelos de machine learning.\n",
    "\n",
    "1. Dividir el conjunto de datos en variables características (X) y variable objetivo (y).\n",
    "2. Codificar las variables categóricas utilizando One-Hot Encoding.\n",
    "3. Dividir los datos en conjuntos de entrenamiento y prueba.\n",
    "4. Normalizar las características numéricas.\n"
   ]
  },
  {
   "cell_type": "markdown",
   "metadata": {},
   "source": [
    "\n",
    "#### Funciones para entrenamiento y evaluación de modelos\n",
    "Vamos a definir una función que evalúe el desempeño de los modelos en términos de RMSE, tiempo de entrenamiento y tiempo de predicción.\n"
   ]
  },
  {
   "cell_type": "code",
   "execution_count": 10,
   "metadata": {},
   "outputs": [],
   "source": [
    "# Función para calcular el RMSE\n",
    "def rmse(y_true, y_pred):\n",
    "    return np.sqrt(root_mean_squared_error(y_true, y_pred))\n",
    "\n",
    "# Función para entrenar y evaluar el modelo\n",
    "def evaluate_model(model, X_train, y_train, X_test, y_test):\n",
    "    start_time_train = time.time()\n",
    "    model.fit(X_train, y_train)\n",
    "    training_time = time.time() - start_time_train\n",
    "\n",
    "    start_time_predict = time.time()\n",
    "    y_pred_train = model.predict(X_train)\n",
    "    y_pred_test = model.predict(X_test)\n",
    "    prediction_time = time.time() - start_time_predict\n",
    "    \n",
    "    rmse_train = rmse(y_train, y_pred_train)\n",
    "    rmse_test = rmse(y_test, y_pred_test)\n",
    "    \n",
    "    return {\n",
    "        'train_rmse': rmse_train,\n",
    "        'test_rmse': rmse_test,\n",
    "        'training_time': training_time,\n",
    "        'prediction_time': prediction_time\n",
    "    }"
   ]
  },
  {
   "cell_type": "markdown",
   "metadata": {},
   "source": [
    "### División de los datos en entrenamiento y prueba\n",
    "Dividimos los datos reducidos en conjuntos de entrenamiento y prueba.\n"
   ]
  },
  {
   "cell_type": "code",
   "execution_count": 11,
   "metadata": {},
   "outputs": [
    {
     "name": "stdout",
     "output_type": "stream",
     "text": [
      "Tamaño de X_train_final: (174415, 317)\n",
      "Tamaño de X_test_final: (174416, 317)\n"
     ]
    }
   ],
   "source": [
    "# Paso 1: Seleccionar las características y la variable objetivo, eliminando las columnas de fechas\n",
    "X = data_clean.drop(columns=['Price', 'DateCrawled', 'DateCreated', 'LastSeen', 'PostalCode'])\n",
    "y = data_clean['Price']\n",
    "\n",
    "# Paso 2: Dividir los datos en entrenamiento y prueba\n",
    "X_train, X_test, y_train, y_test = train_test_split(X, y, test_size=0.5, random_state=42)\n",
    "\n",
    "# Paso 3: Codificar variables categóricas\n",
    "encoder = OneHotEncoder(handle_unknown='ignore', sparse_output=False)\n",
    "\n",
    "categorical_columns = ['VehicleType', 'Gearbox', 'Model', 'FuelType', 'Brand', 'NotRepaired']\n",
    "X_train_encoded = encoder.fit_transform(X_train[categorical_columns])\n",
    "X_test_encoded = encoder.transform(X_test[categorical_columns])\n",
    "\n",
    "# Paso 4: Normalizar características numéricas\n",
    "scaler = StandardScaler()\n",
    "\n",
    "numeric_columns = ['RegistrationYear', 'Power', 'Mileage']\n",
    "X_train_scaled = scaler.fit_transform(X_train[numeric_columns])\n",
    "X_test_scaled = scaler.transform(X_test[numeric_columns])   \n",
    "\n",
    "# Concatenar los datos codificados y normalizados\n",
    "X_train_final = np.concatenate([X_train_scaled, X_train_encoded], axis=1)\n",
    "X_test_final = np.concatenate([X_test_scaled, X_test_encoded], axis=1)\n",
    "\n",
    "# Cambiar el tipo de los datos a un DataFrame con las mismas columnas originales\n",
    "column_names = encoder.get_feature_names_out(categorical_columns).tolist() + numeric_columns\n",
    "X_train_final = pd.DataFrame(X_train_final, columns=column_names)\n",
    "X_test_final = pd.DataFrame(X_test_final, columns=column_names)\n",
    "\n",
    "\n",
    "# Verificar las formas de los datos finales\n",
    "print(\"Tamaño de X_train_final:\", X_train_final.shape)\n",
    "print(\"Tamaño de X_test_final:\", X_test_final.shape)"
   ]
  },
  {
   "cell_type": "markdown",
   "metadata": {},
   "source": [
    "### Modelo 1: Regresión Lineal\n",
    "Vamos a entrenar un modelo de regresión lineal como prueba de cordura y evaluaremos su desempeño.\n"
   ]
  },
  {
   "cell_type": "code",
   "execution_count": 12,
   "metadata": {},
   "outputs": [
    {
     "name": "stdout",
     "output_type": "stream",
     "text": [
      "Resultados de la Regresión Lineal:\n",
      "{'train_rmse': 53.45780131644442, 'test_rmse': 53.45264788163231, 'training_time': 1.7829651832580566, 'prediction_time': 0.16889095306396484}\n"
     ]
    }
   ],
   "source": [
    "# Crear el modelo de regresión lineal\n",
    "linear_model = LinearRegression()\n",
    "\n",
    "# Evaluar el modelo\n",
    "linear_results = evaluate_model(linear_model, X_train_final, y_train, X_test_final, y_test)\n",
    "\n",
    "# Mostrar los resultados\n",
    "print(\"Resultados de la Regresión Lineal:\")\n",
    "print(linear_results)"
   ]
  },
  {
   "cell_type": "markdown",
   "metadata": {},
   "source": [
    "### Modelo 2: Random Forest\n",
    "Entrenaremos un modelo de Random Forest para ver si mejora el desempeño en comparación con la regresión lineal."
   ]
  },
  {
   "cell_type": "code",
   "execution_count": 15,
   "metadata": {},
   "outputs": [
    {
     "name": "stdout",
     "output_type": "stream",
     "text": [
      "Mejores hiperparámetros para Random Forest: {'n_estimators': 100, 'min_samples_split': 5, 'max_depth': None}\n",
      "Resultados del Random Forest Ajustado:\n",
      "{'train_rmse': 32.267835771043586, 'test_rmse': 41.03236069615627, 'training_time': 390.84693670272827, 'prediction_time': 12.535650968551636}\n"
     ]
    }
   ],
   "source": [
    "# Definir los hiperparámetros que queremos ajustar con menos combinaciones\n",
    "param_dist_rf = {\n",
    "    'n_estimators': [100, 200],\n",
    "    'max_depth': [10, 20, None],\n",
    "    'min_samples_split': [2, 5]\n",
    "}\n",
    "\n",
    "# Crear el modelo de Random Forest\n",
    "rf_model = RandomForestRegressor(random_state=42)\n",
    "\n",
    "# Usar RandomizedSearchCV en lugar de GridSearchCV\n",
    "random_search_rf = RandomizedSearchCV(\n",
    "    rf_model, \n",
    "    param_distributions=param_dist_rf, \n",
    "    n_iter=2,  # Probará 2 combinaciones aleatorias de hiperparámetros\n",
    "    cv=3, \n",
    "    scoring='neg_root_mean_squared_error', \n",
    "    n_jobs=-1, \n",
    "    random_state=42\n",
    ")\n",
    "\n",
    "# Ajustar el modelo utilizando RandomizedSearchCV\n",
    "random_search_rf.fit(X_train_final, y_train)\n",
    "\n",
    "# Obtener los mejores hiperparámetros\n",
    "print(\"Mejores hiperparámetros para Random Forest:\", random_search_rf.best_params_)\n",
    "\n",
    "# Evaluar el modelo ajustado\n",
    "rf_best = random_search_rf.best_estimator_\n",
    "rf_results_best = evaluate_model(rf_best, X_train_final, y_train, X_test_final, y_test)\n",
    "\n",
    "print(\"Resultados del Random Forest Ajustado:\")\n",
    "print(rf_results_best)"
   ]
  },
  {
   "cell_type": "markdown",
   "metadata": {},
   "source": [
    "### Modelo 3: LightGBM\n",
    "Ahora, probaremos un modelo de LightGBM, que suele ser muy eficiente y tiene un buen desempeño en grandes conjuntos de datos."
   ]
  },
  {
   "cell_type": "code",
   "execution_count": 16,
   "metadata": {},
   "outputs": [
    {
     "name": "stdout",
     "output_type": "stream",
     "text": [
      "[LightGBM] [Info] This is the GPU trainer!!\n",
      "[LightGBM] [Info] Total Bins 901\n",
      "[LightGBM] [Info] Number of data points in the train set: 174415, number of used features: 293\n",
      "[LightGBM] [Info] Using requested OpenCL platform 0 device 0\n",
      "[LightGBM] [Info] Using GPU Device: NVIDIA GeForce RTX 2070, Vendor: NVIDIA Corporation\n",
      "[LightGBM] [Info] Compiling OpenCL Kernel with 256 bins...\n",
      "[LightGBM] [Info] GPU programs have been built\n",
      "[LightGBM] [Info] Size of histogram bin entry: 8\n",
      "[LightGBM] [Info] 8 dense feature groups (1.33 MB) transferred to GPU in 0.003596 secs. 1 sparse feature groups\n",
      "[LightGBM] [Info] Start training from score 4254.773431\n",
      "[LightGBM] [Warning] No further splits with positive gain, best gain: -inf\n",
      "[LightGBM] [Warning] No further splits with positive gain, best gain: -inf\n",
      "Mejores hiperparámetros para LightGBM: {'learning_rate': 0.3, 'max_depth': 20, 'min_child_samples': 20, 'min_split_gain': 0.0, 'n_estimators': 100, 'num_leaves': 128}\n",
      "[LightGBM] [Info] This is the GPU trainer!!\n",
      "[LightGBM] [Info] Total Bins 901\n",
      "[LightGBM] [Info] Number of data points in the train set: 174415, number of used features: 293\n",
      "[LightGBM] [Info] Using requested OpenCL platform 0 device 0\n",
      "[LightGBM] [Info] Using GPU Device: NVIDIA GeForce RTX 2070, Vendor: NVIDIA Corporation\n",
      "[LightGBM] [Info] Compiling OpenCL Kernel with 256 bins...\n",
      "[LightGBM] [Info] GPU programs have been built\n",
      "[LightGBM] [Info] Size of histogram bin entry: 8\n",
      "[LightGBM] [Info] 8 dense feature groups (1.33 MB) transferred to GPU in 0.003008 secs. 1 sparse feature groups\n",
      "[LightGBM] [Info] Start training from score 4254.773431\n",
      "[LightGBM] [Warning] No further splits with positive gain, best gain: -inf\n",
      "[LightGBM] [Warning] No further splits with positive gain, best gain: -inf\n",
      "Resultados del LightGBM Ajustado:\n",
      "{'train_rmse': 37.94851700477911, 'test_rmse': 40.56335129194375, 'training_time': 2.598536968231201, 'prediction_time': 0.5368661880493164}\n",
      "{'boosting_type': 'gbdt', 'colsample_bytree': 1.0, 'learning_rate': 0.3, 'max_depth': 20, 'min_child_samples': 20, 'min_child_weight': 0.001, 'min_split_gain': 0.0, 'num_leaves': 128, 'random_state': 42, 'reg_alpha': 0.0, 'reg_lambda': 0.0, 'subsample': 1.0, 'subsample_for_bin': 200000, 'subsample_freq': 0, 'device': 'gpu', 'gpu_platform_id': 0, 'gpu_device_id': 0, 'objective': 'regression', 'metric': ['regression'], 'num_threads': 6, 'num_iterations': 100}\n"
     ]
    }
   ],
   "source": [
    "param_grid_lgb = {\n",
    "    'n_estimators': [100],  # Reducir las iteraciones a 100\n",
    "    'learning_rate': [0.1, 0.05, 0.3],  # Usar tasas de aprendizaje más altas para converger más rápido\n",
    "    'max_depth': [15, 20],  # Evitar profundidades muy grandes (-1 puede ser muy costoso)\n",
    "    'num_leaves': [31, 64, 128],  # Mantener un número moderado de hojas\n",
    "    'min_child_samples': [20, 50],  # Limitar las muestras por hoja para evitar sobreajuste\n",
    "    'min_split_gain': [0.0, 0.1]  # Evitar ganancias muy pequeñas para acelerar el entrenamiento\n",
    "}\n",
    "\n",
    "\n",
    "# Crear el modelo de LightGBM\n",
    "lgb_model = lgb.LGBMRegressor(random_state=42, device='gpu', gpu_platform_id=0, gpu_device_id=0)\n",
    "\n",
    "# Ajustar el modelo utilizando GridSearchCV\n",
    "grid_search_lgb = GridSearchCV(lgb_model, param_grid_lgb, cv=3, scoring='neg_root_mean_squared_error', n_jobs=-1)\n",
    "grid_search_lgb.fit(X_train_final, y_train)\n",
    "\n",
    "# Obtener los mejores hiperparámetros\n",
    "print(\"Mejores hiperparámetros para LightGBM:\", grid_search_lgb.best_params_)\n",
    "\n",
    "# Evaluar el modelo ajustado\n",
    "lgb_best = grid_search_lgb.best_estimator_\n",
    "lgb_results_best = evaluate_model(lgb_best, X_train_final, y_train, X_test_final, y_test)\n",
    "\n",
    "print(\"Resultados del LightGBM Ajustado:\")\n",
    "print(lgb_results_best)\n",
    "print(lgb_best.booster_.params)"
   ]
  },
  {
   "cell_type": "markdown",
   "metadata": {},
   "source": [
    "### Modelo 4: CatBoost con Ajuste de Hiperparámetros\n",
    "CatBoost tiene un manejo eficiente de datos categóricos, por lo que no necesitamos codificar manualmente las variables categóricas."
   ]
  },
  {
   "cell_type": "code",
   "execution_count": 16,
   "metadata": {
    "scrolled": true
   },
   "outputs": [
    {
     "name": "stdout",
     "output_type": "stream",
     "text": [
      "Mejores hiperparámetros para CatBoost: {'random_strength': 1, 'learning_rate': 0.1, 'l2_leaf_reg': 3, 'iterations': 200, 'depth': 8, 'bagging_temperature': 0}\n",
      "RMSE en el conjunto de prueba: 1700.4383465560393\n",
      "RMSE en el conjunto de entrenamiento: 1645.051143279384\n",
      "     Modelo  RMSE Entrenamiento  RMSE Prueba\n",
      "0  CatBoost         1645.051143  1700.438347\n"
     ]
    }
   ],
   "source": [
    "# Definir los hiperparámetros optimizados para CatBoost\n",
    "param_grid_catboost = {\n",
    "    'iterations': [200],  # Aumentar las iteraciones para un mejor rendimiento\n",
    "    'learning_rate': [0.05, 0.1],  # Evitar tasas de aprendizaje muy altas\n",
    "    'depth': [6, 8],  # Limitar la profundidad para evitar el sobreajuste\n",
    "    'l2_leaf_reg': [1, 3, 5],  # Regularización L2\n",
    "    'bagging_temperature': [0, 1, 5],  # Introducir bagging para mejorar la generalización\n",
    "    'random_strength': [1, 2]  # Regularización para divisiones aleatorias\n",
    "}\n",
    "\n",
    "# Crear el modelo de CatBoost con la GPU habilitada\n",
    "catboost_model = CatBoostRegressor(\n",
    "    random_state=42,\n",
    "    task_type='GPU',\n",
    "    devices='0',\n",
    "    verbose=0,\n",
    "    early_stopping_rounds=10  # Parada temprana para evitar el sobreajuste\n",
    ")\n",
    "\n",
    "# Seleccionar las columnas categóricas\n",
    "categorical_columns = ['VehicleType', 'Gearbox', 'Model', 'FuelType', 'Brand', 'NotRepaired']\n",
    "\n",
    "# Asegurarse de que las columnas categóricas estén en formato 'object'\n",
    "for col in categorical_columns:\n",
    "    X_train[col] = X_train[col].astype('object')\n",
    "    X_test[col] = X_test[col].astype('object')\n",
    "\n",
    "# Crear Pool para CatBoost, especificando las columnas categóricas\n",
    "train_pool = Pool(data=X_train, label=y_train, cat_features=categorical_columns)\n",
    "test_pool = Pool(data=X_test, label=y_test, cat_features=categorical_columns)\n",
    "\n",
    "# Realizar la búsqueda aleatoria de hiperparámetros\n",
    "random_search_catboost = RandomizedSearchCV(\n",
    "    catboost_model,\n",
    "    param_distributions=param_grid_catboost,\n",
    "    n_iter=10,  # Probar 10 combinaciones aleatorias de hiperparámetros\n",
    "    cv=5,\n",
    "    scoring='neg_root_mean_squared_error',\n",
    "    n_jobs=1,\n",
    "    random_state=42\n",
    ")\n",
    "\n",
    "# Ajustar el modelo utilizando el Pool\n",
    "random_search_catboost.fit(X_train, y_train, cat_features=categorical_columns)\n",
    "\n",
    "# Obtener los mejores hiperparámetros\n",
    "print(\"Mejores hiperparámetros para CatBoost:\", random_search_catboost.best_params_)\n",
    "\n",
    "# Evaluar el modelo ajustado en el conjunto de prueba\n",
    "y_pred_test = random_search_catboost.best_estimator_.predict(X_test)\n",
    "\n",
    "# Evaluar el modelo ajustado en el conjunto de entrenamiento\n",
    "y_pred_train = random_search_catboost.best_estimator_.predict(X_train)\n",
    "\n",
    "# Calcular el RMSE en el conjunto de prueba usando root_mean_squared_error \n",
    "rmse_test = root_mean_squared_error(y_test, y_pred_test)\n",
    "print(\"RMSE en el conjunto de prueba:\", rmse_test)\n",
    "\n",
    "# Calcular el RMSE en el conjunto de entrenamiento\n",
    "rmse_train = root_mean_squared_error(y_train, y_pred_train)\n",
    "print(\"RMSE en el conjunto de entrenamiento:\", rmse_train)\n",
    "\n",
    "# Crear un diccionario con los resultados\n",
    "model_results = {\n",
    "    'Modelo': ['CatBoost'],\n",
    "    'RMSE Entrenamiento': [rmse_train],\n",
    "    'RMSE Prueba': [rmse_test]\n",
    "}\n",
    "\n",
    "# Convertir a un DataFrame para mostrarlo como tabla\n",
    "results_df = pd.DataFrame(model_results)\n",
    "\n",
    "# Mostrar la tabla de resultados\n",
    "print(results_df)"
   ]
  },
  {
   "cell_type": "markdown",
   "metadata": {},
   "source": [
    "### Modelo 5: XGBoost con Ajuste de Hiperparámetros\n",
    "XGBoost requiere que las variables categóricas estén codificadas, por lo que usamos los datos previamente codificados."
   ]
  },
  {
   "cell_type": "code",
   "execution_count": 16,
   "metadata": {},
   "outputs": [
    {
     "name": "stderr",
     "output_type": "stream",
     "text": [
      "d:\\anaconda\\envs\\rusty_env\\Lib\\site-packages\\xgboost\\core.py:158: UserWarning: [10:57:24] WARNING: C:\\buildkite-agent\\builds\\buildkite-windows-cpu-autoscaling-group-i-08cbc0333d8d4aae1-1\\xgboost\\xgboost-ci-windows\\src\\common\\error_msg.cc:58: Falling back to prediction using DMatrix due to mismatched devices. This might lead to higher memory usage and slower performance. XGBoost is running on: cuda:0, while the input data is on: cpu.\n",
      "Potential solutions:\n",
      "- Use a data structure that matches the device ordinal in the booster.\n",
      "- Set the device for booster before call to inplace_predict.\n",
      "\n",
      "This warning will only be shown once.\n",
      "\n",
      "  warnings.warn(smsg, UserWarning)\n"
     ]
    },
    {
     "name": "stdout",
     "output_type": "stream",
     "text": [
      "Resultados del XGBoost con GPU habilitada:\n",
      "{'train_rmse': 40.17556077509995, 'test_rmse': 41.36003907192605, 'training_time': 1.4522769451141357, 'prediction_time': 1.5782034397125244}\n"
     ]
    }
   ],
   "source": [
    "# Asegurarnos de que los datos estén en la GPU con CuPy\n",
    "X_train_final = cp.asarray(X_train_final)\n",
    "y_train = cp.asarray(y_train)\n",
    "X_test_final = cp.asarray(X_test_final)\n",
    "y_test = cp.asarray(y_test)\n",
    "\n",
    "# Crear el modelo de XGBoost con GPU habilitada\n",
    "xgb_model = xgb.XGBRegressor(tree_method='hist', device='cuda:0', random_state=42)\n",
    "\n",
    "\n",
    "\n",
    "# Ajustar el modelo con los datos codificados y normalizados\n",
    "xgb_model.fit(X_train_final, y_train)\n",
    "\n",
    "# Convertir los datos de vuelta a NumPy antes de la evaluación\n",
    "X_train_final_np = cp.asnumpy(X_train_final)\n",
    "y_train_np = cp.asnumpy(y_train)\n",
    "X_test_final_np = cp.asnumpy(X_test_final)\n",
    "y_test_np = cp.asnumpy(y_test)\n",
    "\n",
    "# Evaluar el modelo ajustado\n",
    "xgb_results = evaluate_model(xgb_model, X_train_final_np, y_train_np, X_test_final_np, y_test_np)\n",
    "\n",
    "# Mostrar los resultados del XGBoost con GPU habilitada\n",
    "print(\"Resultados del XGBoost con GPU habilitada:\")\n",
    "print(xgb_results)\n",
    "\n"
   ]
  },
  {
   "cell_type": "markdown",
   "metadata": {},
   "source": [
    "# Análisis del Modelo\n",
    "\n",
    "En esta sección se presentan los resultados obtenidos de los diferentes modelos probados para predecir el valor de mercado de vehículos usados en la aplicación de Rusty Bargain. Se evaluaron los modelos en términos de calidad de predicción (RMSE en entrenamiento y prueba), velocidad de predicción y tiempo de entrenamiento. A continuación se muestra un análisis detallado y la selección del mejor modelo para la tarea.\n",
    "\n",
    "## Resultados de los Modelos\n",
    "\n",
    "| **Modelo**       | **RMSE Entrenamiento** | **RMSE Prueba** | **Tiempo de Entrenamiento (s)** | **Tiempo de Predicción (s)** |\n",
    "| ---------------- | ---------------------- | --------------- | ------------------------------- | ---------------------------- |\n",
    "| Regresión Lineal | 53.46                  | 53.45           | 1.78                            | 0.17                         |\n",
    "| Random Forest    | 32.27                  | 41.03           | 390.85                          | 12.54                        |\n",
    "| LightGBM         | 37.95                  | 40.56           | 2.60                            | 0.54                         |\n",
    "| CatBoost         | 1645.05                | 1700.44         | N/A                             | N/A                          |\n",
    "| XGBoost          | 40.18                  | 41.36           | 1.45                            | 1.58                         |\n",
    "\n",
    "## Análisis de Desempeño\n",
    "\n",
    "- **Regresión Lineal:** El rendimiento fue bajo en comparación con los modelos basados en árboles. El **RMSE** alto indica que no logra capturar la complejidad de las relaciones en los datos.\n",
    "\n",
    "- **Random Forest:** Aunque mostró un buen **RMSE** en entrenamiento, la diferencia con el **RMSE** en prueba indica un posible sobreajuste. Además, el tiempo de entrenamiento fue significativamente alto.\n",
    "\n",
    "- **LightGBM:** Sobresalió en todos los aspectos. Su **RMSE** en prueba fue el más bajo (**40.56**), y fue extremadamente rápido tanto en el entrenamiento como en la predicción. No muestra signos de sobreajuste.\n",
    "\n",
    "- **CatBoost:** Aunque CatBoost maneja bien las variables categóricas, su desempeño en este proyecto fue muy deficiente, con un **RMSE** de **1700.44**, mucho mayor que los demás modelos. Además, el tiempo de entrenamiento y predicción no fueron competitivos.\n",
    "\n",
    "- **XGBoost:** Tuvo un **RMSE** competitivo (**41.36**), aunque fue ligeramente más rápido que **LightGBM**. Sin embargo, considerando que no se hizo un ajuste exhaustivo de hiperparámetros, el rendimiento fue destacable.\n",
    "\n",
    "## Conclusión: Selección del Mejor Modelo\n",
    "\n",
    "El modelo **LightGBM** se destaca como la mejor opción para Rusty Bargain, ya que ofrece el mejor equilibrio entre precisión (**RMSE: 40.56**), velocidad de predicción y tiempo de entrenamiento. Su capacidad para manejar grandes volúmenes de datos y complejas relaciones no lineales lo convierte en la opción ideal para implementar en la aplicación.\n",
    "\n",
    "Se recomienda proceder con la implementación del modelo **LightGBM** y realizar pruebas en un entorno de producción para validar su desempeño con datos reales. Además, mantener un monitoreo continuo del modelo permitirá identificar cualquier degradación en su precisión y ajustarlo si es necesario.\n"
   ]
  }
 ],
 "metadata": {
  "ExecuteTimeLog": [
   {
    "duration": 1040,
    "start_time": "2024-09-10T19:37:54.714Z"
   },
   {
    "duration": 1690,
    "start_time": "2024-09-10T19:42:49.893Z"
   },
   {
    "duration": 2299,
    "start_time": "2024-09-10T19:46:38.870Z"
   },
   {
    "duration": 901,
    "start_time": "2024-09-10T19:46:48.455Z"
   },
   {
    "duration": 957,
    "start_time": "2024-09-10T19:48:00.535Z"
   },
   {
    "duration": 957,
    "start_time": "2024-09-10T19:50:22.566Z"
   },
   {
    "duration": 873,
    "start_time": "2024-09-10T19:51:21.658Z"
   },
   {
    "duration": 8,
    "start_time": "2024-09-10T20:03:07.347Z"
   },
   {
    "duration": 302,
    "start_time": "2024-09-10T20:03:37.932Z"
   },
   {
    "duration": 874,
    "start_time": "2024-09-10T20:06:48.225Z"
   },
   {
    "duration": 132,
    "start_time": "2024-09-10T20:12:52.610Z"
   },
   {
    "duration": 1038,
    "start_time": "2024-09-10T20:13:10.598Z"
   },
   {
    "duration": 34,
    "start_time": "2024-09-10T20:17:26.074Z"
   },
   {
    "duration": 3,
    "start_time": "2024-09-10T20:17:44.401Z"
   },
   {
    "duration": 0,
    "start_time": "2024-09-10T20:22:51.644Z"
   },
   {
    "duration": 0,
    "start_time": "2024-09-10T20:22:51.646Z"
   },
   {
    "duration": 0,
    "start_time": "2024-09-10T20:22:51.647Z"
   },
   {
    "duration": 0,
    "start_time": "2024-09-10T20:22:51.649Z"
   },
   {
    "duration": 0,
    "start_time": "2024-09-10T20:22:51.651Z"
   },
   {
    "duration": 0,
    "start_time": "2024-09-10T20:22:51.652Z"
   },
   {
    "duration": 0,
    "start_time": "2024-09-10T20:22:51.655Z"
   },
   {
    "duration": 4,
    "start_time": "2024-09-10T20:29:58.428Z"
   },
   {
    "duration": 596,
    "start_time": "2024-09-10T20:29:58.434Z"
   },
   {
    "duration": 1486,
    "start_time": "2024-09-10T20:29:59.032Z"
   },
   {
    "duration": 906,
    "start_time": "2024-09-10T20:30:00.520Z"
   },
   {
    "duration": 863,
    "start_time": "2024-09-10T20:30:01.429Z"
   },
   {
    "duration": 167,
    "start_time": "2024-09-10T20:43:05.315Z"
   },
   {
    "duration": 1056,
    "start_time": "2024-09-10T20:43:17.012Z"
   },
   {
    "duration": 689,
    "start_time": "2024-09-10T20:43:18.071Z"
   },
   {
    "duration": 1500,
    "start_time": "2024-09-10T20:43:18.762Z"
   },
   {
    "duration": 975,
    "start_time": "2024-09-10T20:43:20.264Z"
   },
   {
    "duration": 958,
    "start_time": "2024-09-10T20:43:21.241Z"
   },
   {
    "duration": 1055,
    "start_time": "2024-09-10T20:43:22.201Z"
   },
   {
    "duration": 4,
    "start_time": "2024-09-10T20:50:54.050Z"
   },
   {
    "duration": 3,
    "start_time": "2024-09-10T20:51:13.026Z"
   },
   {
    "duration": 597,
    "start_time": "2024-09-10T20:51:13.032Z"
   },
   {
    "duration": 1441,
    "start_time": "2024-09-10T20:51:13.631Z"
   },
   {
    "duration": 937,
    "start_time": "2024-09-10T20:51:15.075Z"
   },
   {
    "duration": 872,
    "start_time": "2024-09-10T20:51:16.013Z"
   },
   {
    "duration": 1078,
    "start_time": "2024-09-10T20:51:16.887Z"
   },
   {
    "duration": 4,
    "start_time": "2024-09-10T20:51:17.967Z"
   },
   {
    "duration": 4,
    "start_time": "2024-09-10T20:52:06.480Z"
   },
   {
    "duration": 1092,
    "start_time": "2024-09-10T20:52:14.327Z"
   },
   {
    "duration": 4,
    "start_time": "2024-09-10T20:52:19.548Z"
   },
   {
    "duration": 52,
    "start_time": "2024-09-10T20:56:43.995Z"
   },
   {
    "duration": 1243,
    "start_time": "2024-09-10T20:58:07.353Z"
   },
   {
    "duration": 569,
    "start_time": "2024-09-10T21:38:35.896Z"
   },
   {
    "duration": 5071,
    "start_time": "2024-09-10T21:38:54.984Z"
   },
   {
    "duration": 399,
    "start_time": "2024-09-10T22:59:42.517Z"
   },
   {
    "duration": 46,
    "start_time": "2024-09-10T23:06:03.300Z"
   },
   {
    "duration": 539,
    "start_time": "2024-09-10T23:06:17.286Z"
   },
   {
    "duration": 4,
    "start_time": "2024-09-10T23:09:02.440Z"
   },
   {
    "duration": 555,
    "start_time": "2024-09-10T23:09:02.446Z"
   },
   {
    "duration": 1476,
    "start_time": "2024-09-10T23:09:03.003Z"
   },
   {
    "duration": 0,
    "start_time": "2024-09-10T23:09:04.481Z"
   },
   {
    "duration": 0,
    "start_time": "2024-09-10T23:09:04.482Z"
   },
   {
    "duration": 0,
    "start_time": "2024-09-10T23:09:04.483Z"
   },
   {
    "duration": 0,
    "start_time": "2024-09-10T23:09:04.485Z"
   },
   {
    "duration": 0,
    "start_time": "2024-09-10T23:09:04.486Z"
   },
   {
    "duration": 0,
    "start_time": "2024-09-10T23:09:04.487Z"
   },
   {
    "duration": 0,
    "start_time": "2024-09-10T23:09:04.488Z"
   },
   {
    "duration": 3,
    "start_time": "2024-09-10T23:10:14.906Z"
   },
   {
    "duration": 568,
    "start_time": "2024-09-10T23:10:14.911Z"
   },
   {
    "duration": 1420,
    "start_time": "2024-09-10T23:10:15.480Z"
   },
   {
    "duration": 916,
    "start_time": "2024-09-10T23:10:16.902Z"
   },
   {
    "duration": 974,
    "start_time": "2024-09-10T23:10:17.821Z"
   },
   {
    "duration": 564,
    "start_time": "2024-09-10T23:10:18.797Z"
   },
   {
    "duration": 1067,
    "start_time": "2024-09-10T23:10:19.364Z"
   },
   {
    "duration": 4,
    "start_time": "2024-09-10T23:10:20.433Z"
   },
   {
    "duration": 582,
    "start_time": "2024-09-10T23:10:20.438Z"
   },
   {
    "duration": 5121,
    "start_time": "2024-09-10T23:10:21.022Z"
   },
   {
    "duration": 0,
    "start_time": "2024-09-10T23:14:33.933Z"
   },
   {
    "duration": 0,
    "start_time": "2024-09-10T23:14:33.935Z"
   },
   {
    "duration": 0,
    "start_time": "2024-09-10T23:14:33.935Z"
   },
   {
    "duration": 26,
    "start_time": "2024-09-10T23:14:37.278Z"
   },
   {
    "duration": 578,
    "start_time": "2024-09-10T23:14:37.307Z"
   },
   {
    "duration": 1451,
    "start_time": "2024-09-10T23:14:37.887Z"
   },
   {
    "duration": 1004,
    "start_time": "2024-09-10T23:14:39.339Z"
   },
   {
    "duration": 875,
    "start_time": "2024-09-10T23:14:40.346Z"
   },
   {
    "duration": 533,
    "start_time": "2024-09-10T23:14:41.223Z"
   },
   {
    "duration": 1074,
    "start_time": "2024-09-10T23:14:41.758Z"
   },
   {
    "duration": 4,
    "start_time": "2024-09-10T23:14:42.842Z"
   },
   {
    "duration": 581,
    "start_time": "2024-09-10T23:14:42.849Z"
   },
   {
    "duration": 5014,
    "start_time": "2024-09-10T23:14:43.432Z"
   },
   {
    "duration": 138608,
    "start_time": "2024-09-10T23:14:48.448Z"
   },
   {
    "duration": 0,
    "start_time": "2024-09-10T23:17:07.057Z"
   },
   {
    "duration": 1043,
    "start_time": "2024-09-10T23:18:15.305Z"
   },
   {
    "duration": 679,
    "start_time": "2024-09-10T23:18:16.350Z"
   },
   {
    "duration": 1396,
    "start_time": "2024-09-10T23:18:17.031Z"
   },
   {
    "duration": 926,
    "start_time": "2024-09-10T23:18:18.429Z"
   },
   {
    "duration": 850,
    "start_time": "2024-09-10T23:18:19.356Z"
   },
   {
    "duration": 549,
    "start_time": "2024-09-10T23:18:20.208Z"
   },
   {
    "duration": 1120,
    "start_time": "2024-09-10T23:18:20.759Z"
   },
   {
    "duration": 4,
    "start_time": "2024-09-10T23:18:21.881Z"
   },
   {
    "duration": 168,
    "start_time": "2024-09-10T23:18:21.887Z"
   },
   {
    "duration": 889,
    "start_time": "2024-09-10T23:18:22.059Z"
   },
   {
    "duration": 19971,
    "start_time": "2024-09-10T23:18:22.950Z"
   },
   {
    "duration": 921,
    "start_time": "2024-09-10T23:18:42.922Z"
   },
   {
    "duration": 3,
    "start_time": "2024-09-10T23:30:44.906Z"
   },
   {
    "duration": 46077,
    "start_time": "2024-09-10T23:31:41.685Z"
   },
   {
    "duration": 22,
    "start_time": "2024-09-10T23:33:02.411Z"
   },
   {
    "duration": 44220,
    "start_time": "2024-09-10T23:33:29.034Z"
   },
   {
    "duration": 0,
    "start_time": "2024-09-10T23:34:13.257Z"
   },
   {
    "duration": 3,
    "start_time": "2024-09-10T23:35:50.703Z"
   },
   {
    "duration": 585,
    "start_time": "2024-09-10T23:35:50.708Z"
   },
   {
    "duration": 1441,
    "start_time": "2024-09-10T23:35:51.295Z"
   },
   {
    "duration": 896,
    "start_time": "2024-09-10T23:35:52.737Z"
   },
   {
    "duration": 847,
    "start_time": "2024-09-10T23:35:53.642Z"
   },
   {
    "duration": 532,
    "start_time": "2024-09-10T23:35:54.491Z"
   },
   {
    "duration": 1031,
    "start_time": "2024-09-10T23:35:55.026Z"
   },
   {
    "duration": 4,
    "start_time": "2024-09-10T23:35:56.059Z"
   },
   {
    "duration": 174,
    "start_time": "2024-09-10T23:35:56.065Z"
   },
   {
    "duration": 821,
    "start_time": "2024-09-10T23:35:56.242Z"
   },
   {
    "duration": 0,
    "start_time": "2024-09-10T23:41:10.058Z"
   },
   {
    "duration": 0,
    "start_time": "2024-09-10T23:41:10.062Z"
   },
   {
    "duration": 0,
    "start_time": "2024-09-10T23:41:10.064Z"
   },
   {
    "duration": 0,
    "start_time": "2024-09-10T23:41:10.066Z"
   },
   {
    "duration": 0,
    "start_time": "2024-09-10T23:41:10.067Z"
   },
   {
    "duration": 0,
    "start_time": "2024-09-10T23:41:10.069Z"
   },
   {
    "duration": 0,
    "start_time": "2024-09-10T23:41:10.070Z"
   },
   {
    "duration": 0,
    "start_time": "2024-09-10T23:41:10.071Z"
   },
   {
    "duration": 0,
    "start_time": "2024-09-10T23:41:10.073Z"
   },
   {
    "duration": 0,
    "start_time": "2024-09-10T23:41:10.074Z"
   },
   {
    "duration": 0,
    "start_time": "2024-09-10T23:41:10.077Z"
   },
   {
    "duration": 0,
    "start_time": "2024-09-10T23:41:10.079Z"
   },
   {
    "duration": 0,
    "start_time": "2024-09-10T23:41:10.080Z"
   },
   {
    "duration": 0,
    "start_time": "2024-09-10T23:41:10.142Z"
   },
   {
    "duration": 3,
    "start_time": "2024-09-10T23:41:14.054Z"
   },
   {
    "duration": 570,
    "start_time": "2024-09-10T23:41:14.060Z"
   },
   {
    "duration": 1455,
    "start_time": "2024-09-10T23:41:14.633Z"
   },
   {
    "duration": 1033,
    "start_time": "2024-09-10T23:41:16.090Z"
   },
   {
    "duration": 853,
    "start_time": "2024-09-10T23:41:17.127Z"
   },
   {
    "duration": 549,
    "start_time": "2024-09-10T23:41:17.982Z"
   },
   {
    "duration": 1039,
    "start_time": "2024-09-10T23:41:18.533Z"
   },
   {
    "duration": 4,
    "start_time": "2024-09-10T23:41:19.574Z"
   },
   {
    "duration": 175,
    "start_time": "2024-09-10T23:41:19.580Z"
   },
   {
    "duration": 901,
    "start_time": "2024-09-10T23:41:19.757Z"
   },
   {
    "duration": 50951,
    "start_time": "2024-09-10T23:41:20.661Z"
   },
   {
    "duration": 0,
    "start_time": "2024-09-10T23:42:11.614Z"
   },
   {
    "duration": 0,
    "start_time": "2024-09-10T23:42:11.617Z"
   },
   {
    "duration": 0,
    "start_time": "2024-09-10T23:42:11.618Z"
   },
   {
    "duration": 46898,
    "start_time": "2024-09-10T23:42:17.866Z"
   },
   {
    "duration": 4,
    "start_time": "2024-09-10T23:47:00.429Z"
   },
   {
    "duration": 0,
    "start_time": "2024-09-10T23:48:52.475Z"
   },
   {
    "duration": 0,
    "start_time": "2024-09-10T23:48:52.476Z"
   },
   {
    "duration": 4,
    "start_time": "2024-09-10T23:49:02.304Z"
   },
   {
    "duration": 574,
    "start_time": "2024-09-10T23:49:02.310Z"
   },
   {
    "duration": 1421,
    "start_time": "2024-09-10T23:49:02.887Z"
   },
   {
    "duration": 910,
    "start_time": "2024-09-10T23:49:04.310Z"
   },
   {
    "duration": 980,
    "start_time": "2024-09-10T23:49:05.223Z"
   },
   {
    "duration": 538,
    "start_time": "2024-09-10T23:49:06.205Z"
   },
   {
    "duration": 1007,
    "start_time": "2024-09-10T23:49:06.744Z"
   },
   {
    "duration": 4,
    "start_time": "2024-09-10T23:49:07.753Z"
   },
   {
    "duration": 111,
    "start_time": "2024-09-10T23:49:07.758Z"
   },
   {
    "duration": 478,
    "start_time": "2024-09-10T23:49:07.871Z"
   },
   {
    "duration": 0,
    "start_time": "2024-09-10T23:50:59.474Z"
   },
   {
    "duration": 0,
    "start_time": "2024-09-10T23:50:59.476Z"
   },
   {
    "duration": 0,
    "start_time": "2024-09-10T23:50:59.477Z"
   },
   {
    "duration": 1,
    "start_time": "2024-09-10T23:50:59.478Z"
   },
   {
    "duration": 0,
    "start_time": "2024-09-10T23:50:59.480Z"
   },
   {
    "duration": 0,
    "start_time": "2024-09-10T23:50:59.482Z"
   },
   {
    "duration": 0,
    "start_time": "2024-09-10T23:50:59.483Z"
   },
   {
    "duration": 0,
    "start_time": "2024-09-10T23:50:59.484Z"
   },
   {
    "duration": 0,
    "start_time": "2024-09-10T23:50:59.486Z"
   },
   {
    "duration": 0,
    "start_time": "2024-09-10T23:50:59.488Z"
   },
   {
    "duration": 0,
    "start_time": "2024-09-10T23:50:59.490Z"
   },
   {
    "duration": 0,
    "start_time": "2024-09-10T23:50:59.492Z"
   },
   {
    "duration": 0,
    "start_time": "2024-09-10T23:50:59.493Z"
   },
   {
    "duration": 0,
    "start_time": "2024-09-10T23:50:59.494Z"
   },
   {
    "duration": 5,
    "start_time": "2024-09-10T23:51:16.650Z"
   },
   {
    "duration": 545,
    "start_time": "2024-09-10T23:51:16.663Z"
   },
   {
    "duration": 1435,
    "start_time": "2024-09-10T23:51:17.210Z"
   },
   {
    "duration": 887,
    "start_time": "2024-09-10T23:51:18.646Z"
   },
   {
    "duration": 862,
    "start_time": "2024-09-10T23:51:19.535Z"
   },
   {
    "duration": 544,
    "start_time": "2024-09-10T23:51:20.400Z"
   },
   {
    "duration": 1031,
    "start_time": "2024-09-10T23:51:20.946Z"
   },
   {
    "duration": 4,
    "start_time": "2024-09-10T23:51:21.979Z"
   },
   {
    "duration": 115,
    "start_time": "2024-09-10T23:51:21.985Z"
   },
   {
    "duration": 456,
    "start_time": "2024-09-10T23:51:22.103Z"
   },
   {
    "duration": 64882,
    "start_time": "2024-09-10T23:51:22.561Z"
   },
   {
    "duration": 35016,
    "start_time": "2024-09-10T23:52:27.445Z"
   },
   {
    "duration": 96845,
    "start_time": "2024-09-10T23:53:02.463Z"
   },
   {
    "duration": 0,
    "start_time": "2024-09-10T23:54:39.310Z"
   },
   {
    "duration": 97095,
    "start_time": "2024-09-10T23:59:25.782Z"
   },
   {
    "duration": 16,
    "start_time": "2024-09-11T00:02:22.730Z"
   },
   {
    "duration": 45,
    "start_time": "2024-09-11T00:02:57.286Z"
   },
   {
    "duration": 0,
    "start_time": "2024-09-11T00:11:11.070Z"
   },
   {
    "duration": 0,
    "start_time": "2024-09-11T00:11:11.072Z"
   },
   {
    "duration": 4,
    "start_time": "2024-09-11T00:11:20.465Z"
   },
   {
    "duration": 568,
    "start_time": "2024-09-11T00:11:20.472Z"
   },
   {
    "duration": 1427,
    "start_time": "2024-09-11T00:11:21.043Z"
   },
   {
    "duration": 873,
    "start_time": "2024-09-11T00:11:22.473Z"
   },
   {
    "duration": 839,
    "start_time": "2024-09-11T00:11:23.350Z"
   },
   {
    "duration": 547,
    "start_time": "2024-09-11T00:11:24.191Z"
   },
   {
    "duration": 1007,
    "start_time": "2024-09-11T00:11:24.744Z"
   },
   {
    "duration": 4,
    "start_time": "2024-09-11T00:11:25.753Z"
   },
   {
    "duration": 115,
    "start_time": "2024-09-11T00:11:25.758Z"
   },
   {
    "duration": 471,
    "start_time": "2024-09-11T00:11:25.875Z"
   },
   {
    "duration": 68723,
    "start_time": "2024-09-11T00:11:26.348Z"
   },
   {
    "duration": 35494,
    "start_time": "2024-09-11T00:12:35.073Z"
   },
   {
    "duration": 98030,
    "start_time": "2024-09-11T00:13:10.575Z"
   },
   {
    "duration": 0,
    "start_time": "2024-09-11T00:14:48.607Z"
   },
   {
    "duration": 96778,
    "start_time": "2024-09-11T00:39:03.126Z"
   },
   {
    "duration": 97901,
    "start_time": "2024-09-11T00:44:01.876Z"
   },
   {
    "duration": 98516,
    "start_time": "2024-09-11T00:47:34.072Z"
   },
   {
    "duration": 99379,
    "start_time": "2024-09-11T01:07:07.978Z"
   },
   {
    "duration": 99908,
    "start_time": "2024-09-11T01:14:29.522Z"
   },
   {
    "duration": 2157,
    "start_time": "2024-09-11T01:18:20.834Z"
   },
   {
    "duration": 2913,
    "start_time": "2024-09-11T01:18:43.019Z"
   },
   {
    "duration": 2125,
    "start_time": "2024-09-11T01:19:07.177Z"
   },
   {
    "duration": 678,
    "start_time": "2024-09-11T01:19:38.823Z"
   },
   {
    "duration": 9,
    "start_time": "2024-09-11T01:20:13.071Z"
   },
   {
    "duration": 2149,
    "start_time": "2024-09-11T02:04:15.590Z"
   },
   {
    "duration": 99607,
    "start_time": "2024-09-11T02:05:37.300Z"
   },
   {
    "duration": 87,
    "start_time": "2024-09-11T02:11:03.833Z"
   },
   {
    "duration": 46501,
    "start_time": "2024-09-11T02:12:45.399Z"
   },
   {
    "duration": 49682,
    "start_time": "2024-09-11T02:15:00.095Z"
   },
   {
    "duration": 49063,
    "start_time": "2024-09-11T02:17:14.594Z"
   },
   {
    "duration": 176,
    "start_time": "2024-09-11T17:03:02.518Z"
   },
   {
    "duration": 2807,
    "start_time": "2024-09-11T17:03:21.725Z"
   },
   {
    "duration": 659,
    "start_time": "2024-09-11T17:03:24.534Z"
   },
   {
    "duration": 1413,
    "start_time": "2024-09-11T17:03:25.195Z"
   },
   {
    "duration": 905,
    "start_time": "2024-09-11T17:03:26.610Z"
   },
   {
    "duration": 836,
    "start_time": "2024-09-11T17:03:27.518Z"
   },
   {
    "duration": 593,
    "start_time": "2024-09-11T17:03:28.357Z"
   },
   {
    "duration": 1033,
    "start_time": "2024-09-11T17:03:28.953Z"
   },
   {
    "duration": 4,
    "start_time": "2024-09-11T17:03:29.988Z"
   },
   {
    "duration": 125,
    "start_time": "2024-09-11T17:03:29.994Z"
   },
   {
    "duration": 382,
    "start_time": "2024-09-11T17:03:30.121Z"
   },
   {
    "duration": 63241,
    "start_time": "2024-09-11T17:03:30.505Z"
   },
   {
    "duration": 31057,
    "start_time": "2024-09-11T17:04:33.748Z"
   },
   {
    "duration": 101,
    "start_time": "2024-09-11T17:05:04.887Z"
   },
   {
    "duration": 0,
    "start_time": "2024-09-11T17:05:04.990Z"
   },
   {
    "duration": 3,
    "start_time": "2024-09-11T17:08:46.272Z"
   },
   {
    "duration": 51078,
    "start_time": "2024-09-11T17:08:55.016Z"
   },
   {
    "duration": 0,
    "start_time": "2024-09-11T17:13:16.690Z"
   },
   {
    "duration": 0,
    "start_time": "2024-09-11T17:13:16.691Z"
   },
   {
    "duration": 0,
    "start_time": "2024-09-11T17:13:16.692Z"
   },
   {
    "duration": 0,
    "start_time": "2024-09-11T17:13:16.693Z"
   },
   {
    "duration": 0,
    "start_time": "2024-09-11T17:13:16.695Z"
   },
   {
    "duration": 0,
    "start_time": "2024-09-11T17:13:16.696Z"
   },
   {
    "duration": 0,
    "start_time": "2024-09-11T17:13:16.702Z"
   },
   {
    "duration": 0,
    "start_time": "2024-09-11T17:13:16.703Z"
   },
   {
    "duration": 0,
    "start_time": "2024-09-11T17:13:16.704Z"
   },
   {
    "duration": 0,
    "start_time": "2024-09-11T17:13:16.706Z"
   },
   {
    "duration": 0,
    "start_time": "2024-09-11T17:13:16.708Z"
   },
   {
    "duration": 0,
    "start_time": "2024-09-11T17:13:16.708Z"
   },
   {
    "duration": 0,
    "start_time": "2024-09-11T17:13:16.710Z"
   },
   {
    "duration": 0,
    "start_time": "2024-09-11T17:13:16.712Z"
   },
   {
    "duration": 1028,
    "start_time": "2024-09-11T17:13:28.336Z"
   },
   {
    "duration": 577,
    "start_time": "2024-09-11T17:13:29.366Z"
   },
   {
    "duration": 1408,
    "start_time": "2024-09-11T17:13:29.946Z"
   },
   {
    "duration": 926,
    "start_time": "2024-09-11T17:13:31.357Z"
   },
   {
    "duration": 855,
    "start_time": "2024-09-11T17:13:32.286Z"
   },
   {
    "duration": 635,
    "start_time": "2024-09-11T17:13:33.143Z"
   },
   {
    "duration": 1012,
    "start_time": "2024-09-11T17:13:33.780Z"
   },
   {
    "duration": 4,
    "start_time": "2024-09-11T17:13:34.794Z"
   },
   {
    "duration": 115,
    "start_time": "2024-09-11T17:13:34.800Z"
   },
   {
    "duration": 376,
    "start_time": "2024-09-11T17:13:34.917Z"
   },
   {
    "duration": 62924,
    "start_time": "2024-09-11T17:13:35.295Z"
   },
   {
    "duration": 30888,
    "start_time": "2024-09-11T17:14:38.221Z"
   },
   {
    "duration": 46985,
    "start_time": "2024-09-11T17:15:09.187Z"
   },
   {
    "duration": 1116332,
    "start_time": "2024-09-11T17:15:56.175Z"
   },
   {
    "duration": 1061,
    "start_time": "2024-09-11T17:38:21.865Z"
   },
   {
    "duration": 626,
    "start_time": "2024-09-11T17:38:22.929Z"
   },
   {
    "duration": 1431,
    "start_time": "2024-09-11T17:38:23.558Z"
   },
   {
    "duration": 887,
    "start_time": "2024-09-11T17:38:24.992Z"
   },
   {
    "duration": 843,
    "start_time": "2024-09-11T17:38:25.882Z"
   },
   {
    "duration": 611,
    "start_time": "2024-09-11T17:38:26.727Z"
   },
   {
    "duration": 1001,
    "start_time": "2024-09-11T17:38:27.340Z"
   },
   {
    "duration": 4,
    "start_time": "2024-09-11T17:38:28.342Z"
   },
   {
    "duration": 115,
    "start_time": "2024-09-11T17:38:28.348Z"
   },
   {
    "duration": 342,
    "start_time": "2024-09-11T17:38:28.465Z"
   },
   {
    "duration": 62660,
    "start_time": "2024-09-11T17:38:28.809Z"
   },
   {
    "duration": 30834,
    "start_time": "2024-09-11T17:39:31.471Z"
   },
   {
    "duration": 47230,
    "start_time": "2024-09-11T17:40:02.386Z"
   },
   {
    "duration": 1119,
    "start_time": "2024-09-11T17:47:57.941Z"
   },
   {
    "duration": 676,
    "start_time": "2024-09-11T17:47:59.062Z"
   },
   {
    "duration": 1718,
    "start_time": "2024-09-11T17:47:59.740Z"
   },
   {
    "duration": 1063,
    "start_time": "2024-09-11T17:48:01.460Z"
   },
   {
    "duration": 971,
    "start_time": "2024-09-11T17:48:02.527Z"
   },
   {
    "duration": 638,
    "start_time": "2024-09-11T17:48:03.502Z"
   },
   {
    "duration": 1150,
    "start_time": "2024-09-11T17:48:04.142Z"
   },
   {
    "duration": 7,
    "start_time": "2024-09-11T17:48:05.293Z"
   },
   {
    "duration": 127,
    "start_time": "2024-09-11T17:48:05.304Z"
   },
   {
    "duration": 373,
    "start_time": "2024-09-11T17:48:05.433Z"
   },
   {
    "duration": 69011,
    "start_time": "2024-09-11T17:48:05.809Z"
   },
   {
    "duration": 31379,
    "start_time": "2024-09-11T17:49:14.822Z"
   },
   {
    "duration": 47128,
    "start_time": "2024-09-11T17:49:46.204Z"
   },
   {
    "duration": 36158,
    "start_time": "2024-09-11T17:50:33.335Z"
   }
  ],
  "kernelspec": {
   "display_name": "rusty_env",
   "language": "python",
   "name": "python3"
  },
  "language_info": {
   "codemirror_mode": {
    "name": "ipython",
    "version": 3
   },
   "file_extension": ".py",
   "mimetype": "text/x-python",
   "name": "python",
   "nbconvert_exporter": "python",
   "pygments_lexer": "ipython3",
   "version": "3.11.7"
  },
  "toc": {
   "base_numbering": 1,
   "nav_menu": {},
   "number_sections": true,
   "sideBar": true,
   "skip_h1_title": true,
   "title_cell": "Table of Contents",
   "title_sidebar": "Contents",
   "toc_cell": false,
   "toc_position": {},
   "toc_section_display": true,
   "toc_window_display": false
  }
 },
 "nbformat": 4,
 "nbformat_minor": 2
}
